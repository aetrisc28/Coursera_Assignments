{
 "cells": [
  {
   "cell_type": "markdown",
   "id": "14422953-3dfd-4391-a926-1d1145b27c36",
   "metadata": {
    "tags": []
   },
   "source": [
    "# Data Science Tools and Ecosystem"
   ]
  },
  {
   "cell_type": "markdown",
   "id": "396e9664-da75-4a5b-82a6-c22cc08ae276",
   "metadata": {},
   "source": [
    "In this notebook, Data Science Tools and Ecosystem are summarized"
   ]
  },
  {
   "cell_type": "markdown",
   "id": "0b8acdaa-cf36-47c8-831b-2797a4ae2d0c",
   "metadata": {
    "tags": []
   },
   "source": [
    "**Objectives:**\n",
    "- List popular languages for Data Science\n",
    "- List commonly used Data Science libraries\n",
    "- List commonly used Data Science tools"
   ]
  },
  {
   "cell_type": "markdown",
   "id": "c9948a72-8186-4200-89e5-24d022c54ab3",
   "metadata": {},
   "source": [
    "Some of the popular langugages that Data Scientists use are:"
   ]
  },
  {
   "cell_type": "markdown",
   "id": "f9c4f56b-2a3a-41b9-be4c-46bd0bb663ea",
   "metadata": {},
   "source": [
    "1. Python\n",
    "2. R Language\n",
    "3. SQL"
   ]
  },
  {
   "cell_type": "markdown",
   "id": "c5d89ba0-3b7e-4ed7-bbfe-bccc0d23d761",
   "metadata": {
    "tags": []
   },
   "source": [
    "Some of the commonly used libraries used by Data Scientists include:"
   ]
  },
  {
   "cell_type": "markdown",
   "id": "efcc340d-5d5f-4e26-8c82-a2e9a584bb32",
   "metadata": {
    "tags": []
   },
   "source": [
    "1. Pandas\n",
    "2. Matplotlib\n",
    "3. Scikit-learn"
   ]
  },
  {
   "cell_type": "markdown",
   "id": "8a5b8c75-08fe-46e5-9625-389d83456731",
   "metadata": {},
   "source": [
    "Data Science Tools|\n",
    "-------\n",
    "Jupyter Lab|\n",
    "Apache Zeppelin|\n",
    "R Studio"
   ]
  },
  {
   "cell_type": "markdown",
   "id": "34683f6c-a133-48a1-8550-eddf1d807164",
   "metadata": {},
   "source": [
    "### Below are a few examples of evaluating arithmetic expressions in Python"
   ]
  },
  {
   "cell_type": "code",
   "execution_count": 4,
   "id": "80eec041-622a-4f13-8560-ea09e6f288d2",
   "metadata": {
    "tags": []
   },
   "outputs": [
    {
     "data": {
      "text/plain": [
       "17"
      ]
     },
     "execution_count": 4,
     "metadata": {},
     "output_type": "execute_result"
    }
   ],
   "source": [
    "#This is a simple arithmetic expression to multiply then add integers\n",
    "(3*4)+5"
   ]
  },
  {
   "cell_type": "code",
   "execution_count": 5,
   "id": "8e85a431-7ef3-473b-902e-acedb3a1076b",
   "metadata": {
    "tags": []
   },
   "outputs": [
    {
     "data": {
      "text/plain": [
       "3.3333333333333335"
      ]
     },
     "execution_count": 5,
     "metadata": {},
     "output_type": "execute_result"
    }
   ],
   "source": [
    "#This will convert 200 minutes to hours by dividing by 60\n",
    "200/60"
   ]
  },
  {
   "cell_type": "markdown",
   "id": "1fd36a70-7826-49bb-a956-2fea06e88664",
   "metadata": {
    "tags": []
   },
   "source": [
    "## Author\n",
    "Amy"
   ]
  },
  {
   "cell_type": "code",
   "execution_count": null,
   "id": "e8372724-8fe0-43fb-a546-d2e7adb96435",
   "metadata": {},
   "outputs": [],
   "source": []
  }
 ],
 "metadata": {
  "kernelspec": {
   "display_name": "Python 3 (ipykernel)",
   "language": "python",
   "name": "python3"
  },
  "language_info": {
   "codemirror_mode": {
    "name": "ipython",
    "version": 3
   },
   "file_extension": ".py",
   "mimetype": "text/x-python",
   "name": "python",
   "nbconvert_exporter": "python",
   "pygments_lexer": "ipython3",
   "version": "3.11.3"
  }
 },
 "nbformat": 4,
 "nbformat_minor": 5
}
